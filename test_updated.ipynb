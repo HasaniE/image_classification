{
 "cells": [
  {
   "cell_type": "code",
   "execution_count": 8,
   "metadata": {},
   "outputs": [],
   "source": [
    "import os\n",
    "import shutil\n",
    "import random\n",
    "import pandas as pd\n",
    "import cv2\n",
    "import matplotlib.pyplot as plt\n",
    "from sklearn.model_selection import train_test_split\n"
   ]
  },
  {
   "cell_type": "code",
   "execution_count": 14,
   "metadata": {},
   "outputs": [
    {
     "data": {
      "text/html": [
       "<div>\n",
       "<style scoped>\n",
       "    .dataframe tbody tr th:only-of-type {\n",
       "        vertical-align: middle;\n",
       "    }\n",
       "\n",
       "    .dataframe tbody tr th {\n",
       "        vertical-align: top;\n",
       "    }\n",
       "\n",
       "    .dataframe thead th {\n",
       "        text-align: right;\n",
       "    }\n",
       "</style>\n",
       "<table border=\"1\" class=\"dataframe\">\n",
       "  <thead>\n",
       "    <tr style=\"text-align: right;\">\n",
       "      <th></th>\n",
       "      <th>Unnamed: 0</th>\n",
       "      <th>lesion_id</th>\n",
       "      <th>image_id</th>\n",
       "      <th>dx</th>\n",
       "      <th>dx_type</th>\n",
       "      <th>age</th>\n",
       "      <th>sex</th>\n",
       "      <th>localization</th>\n",
       "      <th>image</th>\n",
       "    </tr>\n",
       "  </thead>\n",
       "  <tbody>\n",
       "    <tr>\n",
       "      <th>0</th>\n",
       "      <td>0</td>\n",
       "      <td>HAM_0000118</td>\n",
       "      <td>ISIC_0024306</td>\n",
       "      <td>bkl</td>\n",
       "      <td>histo</td>\n",
       "      <td>80</td>\n",
       "      <td>male</td>\n",
       "      <td>scalp</td>\n",
       "      <td>[[[131 131 221]\\n  [126 128 222]\\n  [127 129 2...</td>\n",
       "    </tr>\n",
       "    <tr>\n",
       "      <th>1</th>\n",
       "      <td>1</td>\n",
       "      <td>HAM_0000118</td>\n",
       "      <td>ISIC_0024307</td>\n",
       "      <td>bkl</td>\n",
       "      <td>histo</td>\n",
       "      <td>80</td>\n",
       "      <td>male</td>\n",
       "      <td>scalp</td>\n",
       "      <td>[[[135 123 213]\\n  [133 122 215]\\n  [134 123 2...</td>\n",
       "    </tr>\n",
       "    <tr>\n",
       "      <th>2</th>\n",
       "      <td>2</td>\n",
       "      <td>HAM_0002730</td>\n",
       "      <td>ISIC_0024308</td>\n",
       "      <td>bkl</td>\n",
       "      <td>histo</td>\n",
       "      <td>80</td>\n",
       "      <td>male</td>\n",
       "      <td>scalp</td>\n",
       "      <td>[[[178 169 242]\\n  [182 173 246]\\n  [182 173 2...</td>\n",
       "    </tr>\n",
       "    <tr>\n",
       "      <th>3</th>\n",
       "      <td>3</td>\n",
       "      <td>HAM_0002730</td>\n",
       "      <td>ISIC_0024311</td>\n",
       "      <td>bkl</td>\n",
       "      <td>histo</td>\n",
       "      <td>80</td>\n",
       "      <td>male</td>\n",
       "      <td>scalp</td>\n",
       "      <td>[[[174 156 245]\\n  [175 159 243]\\n  [178 159 2...</td>\n",
       "    </tr>\n",
       "    <tr>\n",
       "      <th>4</th>\n",
       "      <td>4</td>\n",
       "      <td>HAM_0001466</td>\n",
       "      <td>ISIC_0024312</td>\n",
       "      <td>bkl</td>\n",
       "      <td>histo</td>\n",
       "      <td>75</td>\n",
       "      <td>male</td>\n",
       "      <td>ear</td>\n",
       "      <td>[[[165 137 167]\\n  [169 136 171]\\n  [169 136 1...</td>\n",
       "    </tr>\n",
       "  </tbody>\n",
       "</table>\n",
       "</div>"
      ],
      "text/plain": [
       "   Unnamed: 0    lesion_id      image_id   dx dx_type  age   sex localization  \\\n",
       "0           0  HAM_0000118  ISIC_0024306  bkl   histo   80  male        scalp   \n",
       "1           1  HAM_0000118  ISIC_0024307  bkl   histo   80  male        scalp   \n",
       "2           2  HAM_0002730  ISIC_0024308  bkl   histo   80  male        scalp   \n",
       "3           3  HAM_0002730  ISIC_0024311  bkl   histo   80  male        scalp   \n",
       "4           4  HAM_0001466  ISIC_0024312  bkl   histo   75  male          ear   \n",
       "\n",
       "                                               image  \n",
       "0  [[[131 131 221]\\n  [126 128 222]\\n  [127 129 2...  \n",
       "1  [[[135 123 213]\\n  [133 122 215]\\n  [134 123 2...  \n",
       "2  [[[178 169 242]\\n  [182 173 246]\\n  [182 173 2...  \n",
       "3  [[[174 156 245]\\n  [175 159 243]\\n  [178 159 2...  \n",
       "4  [[[165 137 167]\\n  [169 136 171]\\n  [169 136 1...  "
      ]
     },
     "execution_count": 14,
     "metadata": {},
     "output_type": "execute_result"
    }
   ],
   "source": [
    "df=pd.read_csv(\"HAM10000.csv \")#HAM10000.csv \n",
    "df.head()"
   ]
  },
  {
   "cell_type": "code",
   "execution_count": 12,
   "metadata": {},
   "outputs": [],
   "source": [
    "folder='sample images'\n",
    "\n",
    "image_column=[]\n",
    "for image_id in df['image_id']:\n",
    "    path=os.path.join(folder,f'{image_id}.jpg')\n",
    "    img = cv2.imread(path,cv2.IMREAD_COLOR)\n",
    "#     img=cv2.resize(img,(width,height))  #if you want to resize the image now all are 450,600 pass height and width\n",
    "#     print(img.shape)\n",
    "    image_column.append(img) \n",
    "# plt.imshow(cv2.cvtColor(img, cv2.COLOR_BGR2RGB))  #show the image\n",
    "df['image']=image_column\n"
   ]
  },
  {
   "cell_type": "code",
   "execution_count": 13,
   "metadata": {},
   "outputs": [],
   "source": [
    "df.to_csv(\"test.csv\",index=False)# write new data frame including images data to csv file"
   ]
  },
  {
   "cell_type": "code",
   "execution_count": 17,
   "metadata": {},
   "outputs": [],
   "source": [
    "df1=pd.read_csv(\"test.csv\")  # once you run above the cell you dont need them to run again next time run from here\n",
    "df=df1[['lesion_id','image_id','dx','dx_type','age','sex','localization']]\n",
    "df.head()"
   ]
  },
  {
   "cell_type": "code",
   "execution_count": null,
   "metadata": {},
   "outputs": [],
   "source": [
    "X=df['image_id']  #add desired x features\n",
    "y=df['lesion_id'] #add desired labels"
   ]
  },
  {
   "cell_type": "code",
   "execution_count": 19,
   "metadata": {},
   "outputs": [
    {
     "data": {
      "text/plain": [
       "1    ISIC_0024307\n",
       "4    ISIC_0024312\n",
       "0    ISIC_0024306\n",
       "3    ISIC_0024311\n",
       "Name: image_id, dtype: object"
      ]
     },
     "execution_count": 19,
     "metadata": {},
     "output_type": "execute_result"
    }
   ],
   "source": [
    "X_train, X_test, y_train, y_test = train_test_split(X, y, test_size=0.2, random_state=1)\n",
    "X_train"
   ]
  },
  {
   "cell_type": "code",
   "execution_count": 20,
   "metadata": {},
   "outputs": [
    {
     "data": {
      "text/plain": [
       "1    HAM_0000118\n",
       "4    HAM_0001466\n",
       "0    HAM_0000118\n",
       "3    HAM_0002730\n",
       "Name: lesion_id, dtype: object"
      ]
     },
     "execution_count": 20,
     "metadata": {},
     "output_type": "execute_result"
    }
   ],
   "source": [
    "y_train"
   ]
  },
  {
   "cell_type": "code",
   "execution_count": 21,
   "metadata": {},
   "outputs": [],
   "source": [
    "X_train, X_val, y_train, y_val  = train_test_split(X_train, y_train, test_size=0.25, random_state=1) # 0.25 x 0.8 = 0.2"
   ]
  },
  {
   "cell_type": "code",
   "execution_count": 22,
   "metadata": {},
   "outputs": [
    {
     "data": {
      "text/plain": [
       "0    ISIC_0024306\n",
       "1    ISIC_0024307\n",
       "4    ISIC_0024312\n",
       "Name: image_id, dtype: object"
      ]
     },
     "execution_count": 22,
     "metadata": {},
     "output_type": "execute_result"
    }
   ],
   "source": [
    "X_train"
   ]
  },
  {
   "cell_type": "code",
   "execution_count": null,
   "metadata": {},
   "outputs": [],
   "source": []
  }
 ],
 "metadata": {
  "kernelspec": {
   "display_name": "Python 3",
   "language": "python",
   "name": "python3"
  },
  "language_info": {
   "codemirror_mode": {
    "name": "ipython",
    "version": 3
   },
   "file_extension": ".py",
   "mimetype": "text/x-python",
   "name": "python",
   "nbconvert_exporter": "python",
   "pygments_lexer": "ipython3",
   "version": "3.8.3"
  }
 },
 "nbformat": 4,
 "nbformat_minor": 4
}
